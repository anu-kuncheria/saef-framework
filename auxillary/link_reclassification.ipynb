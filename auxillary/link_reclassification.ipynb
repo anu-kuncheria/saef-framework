{
 "cells": [
  {
   "cell_type": "code",
   "execution_count": 3,
   "metadata": {},
   "outputs": [],
   "source": [
    "import pandas as pd\n",
    "import numpy as np\n",
    "import geopandas as gpd\n",
    "import matplotlib.pyplot as plt\n",
    "import seaborn as sns\n",
    "import os"
   ]
  },
  {
   "cell_type": "code",
   "execution_count": 4,
   "metadata": {},
   "outputs": [
    {
     "data": {
      "text/plain": [
       "658662"
      ]
     },
     "execution_count": 4,
     "metadata": {},
     "output_type": "execute_result"
    }
   ],
   "source": [
    "path1 = \"../SAEF/Working_Files/Reclassification_STRF/shapefiles/starterfiles\"\n",
    "bay_links = gpd.read_file(os.path.join(path1, \"bayarealinks_clip.shp\"))\n",
    "len(bay_links) #650k links in Bay Area 9 counties"
   ]
  },
  {
   "cell_type": "markdown",
   "metadata": {},
   "source": [
    "## Step 1 - Transport Context for Links"
   ]
  },
  {
   "cell_type": "code",
   "execution_count": 47,
   "metadata": {},
   "outputs": [],
   "source": [
    "# fc 1,2 , fc3 with speed greater than 80kph Highways , regex expy hwy # tried 90 previously , but ca92 in napa came as thoroghways\n",
    "# Ramps - Ramps\n",
    "# rest of Fc3, Fc4 Thouroughway\n",
    "# Fc 5 - Neighborhood \n",
    "# capacity is not informative, so including all fc3 with speed >= 90 kph into highways"
   ]
  },
  {
   "cell_type": "code",
   "execution_count": 117,
   "metadata": {},
   "outputs": [
    {
     "name": "stdout",
     "output_type": "stream",
     "text": [
      "10711\n",
      "13235\n",
      "4571\n",
      "29161\n",
      "Num of Highways 22379\n"
     ]
    }
   ],
   "source": [
    "#ramps\n",
    "ramps = bay_links[bay_links['RAMP']=='Y']['LINK_ID'].to_list()\n",
    "print(len(ramps))\n",
    "\n",
    "#highways\n",
    "fc12speed60 = bay_links[(bay_links['FUNC_CLASS'].isin([1,2])) & (bay_links['SPEED_KPH']>= 60)]['LINK_ID'].to_list() #highways\n",
    "print(len(fc12speed60))\n",
    "fc3speed90 = bay_links[(bay_links['FUNC_CLASS']== 3) & (bay_links['SPEED_KPH']>= 90)]['LINK_ID'].to_list()\n",
    "print(len(fc3speed90))\n",
    "\n",
    "#all streets with hwy and expy belongs to highway category \n",
    "mask = bay_links[['ST_NAME']].apply(\n",
    "    lambda x: x.str.contains(\n",
    "        'HWY|EXPY|CA-',\n",
    "        regex=True)).any(axis=1)\n",
    "hwyexpy = bay_links[mask]['LINK_ID'].to_list()\n",
    "\n",
    "\n",
    "fc12 = []\n",
    "fc12.extend(fc12speed60)\n",
    "fc12.extend(fc3speed90)\n",
    "fc12.extend(hwyexpy)\n",
    "print(len(fc12))\n",
    "highways = set(fc12)- set(ramps) \n",
    "print(\"Num of Highways\", len(highways))"
   ]
  },
  {
   "cell_type": "code",
   "execution_count": 118,
   "metadata": {},
   "outputs": [
    {
     "name": "stdout",
     "output_type": "stream",
     "text": [
      "577\n",
      "148653\n",
      "Thouroughways 130112\n",
      "Neighbourhood Streets 495460\n"
     ]
    }
   ],
   "source": [
    "#Thouroughways\n",
    "fc12speedlower60 = bay_links[(bay_links['FUNC_CLASS'].isin([1,2])) & (bay_links['SPEED_KPH'] < 60)]['LINK_ID'].to_list()\n",
    "print(len(fc12speedlower60))\n",
    "fc34 = bay_links[bay_links['FUNC_CLASS'].isin([3, 4])]['LINK_ID'].to_list()\n",
    "print(len(fc34))\n",
    "\n",
    "thoroughways = set(fc34).union(set(fc12speedlower60))\n",
    "thoroughways.difference_update(ramps)\n",
    "thoroughways.difference_update(highways)\n",
    "print(\"Thouroughways\", len(thoroughways))\n",
    "\n",
    "#neighborhood\n",
    "neighborhood = set(bay_links[bay_links['FUNC_CLASS'].isin([5])]['LINK_ID'].to_list()) - set(ramps)-set(highways) # neighbourhood\n",
    "print(\"Neighbourhood Streets\", len(neighborhood))"
   ]
  },
  {
   "cell_type": "code",
   "execution_count": 121,
   "metadata": {},
   "outputs": [],
   "source": [
    "bay_links['transport_use'] = 0\n",
    "bay_links.loc[bay_links['LINK_ID'].isin(ramps), ['transport_use']] = 'Highway Ramps'\n",
    "bay_links.loc[bay_links['LINK_ID'].isin(highways), ['transport_use']] = 'Highway'\n",
    "bay_links.loc[bay_links['LINK_ID'].isin(thoroughways), ['transport_use']] = 'Throughway'\n",
    "bay_links.loc[bay_links['LINK_ID'].isin(neighborhood), ['transport_use']] = 'Neighborhood'"
   ]
  },
  {
   "cell_type": "code",
   "execution_count": 122,
   "metadata": {},
   "outputs": [
    {
     "data": {
      "text/plain": [
       "Neighborhood     495460\n",
       "Throughway       130112\n",
       "Highway           22379\n",
       "Highway Ramps     10711\n",
       "Name: transport_use, dtype: int64"
      ]
     },
     "execution_count": 122,
     "metadata": {},
     "output_type": "execute_result"
    }
   ],
   "source": [
    "bay_links['transport_use'].value_counts()"
   ]
  },
  {
   "cell_type": "code",
   "execution_count": 123,
   "metadata": {},
   "outputs": [
    {
     "data": {
      "text/plain": [
       "transport_use\n",
       "Highway           2718.163521\n",
       "Highway Ramps      802.856865\n",
       "Neighborhood     38978.138402\n",
       "Throughway        7626.536110\n",
       "Name: LENGTH_met, dtype: float64"
      ]
     },
     "execution_count": 123,
     "metadata": {},
     "output_type": "execute_result"
    }
   ],
   "source": [
    "bay_links.groupby(['transport_use'])['LENGTH_met'].sum()/1000*0.621371 #miles"
   ]
  },
  {
   "cell_type": "markdown",
   "metadata": {},
   "source": [
    "## Step 2 - Side Use Context"
   ]
  },
  {
   "cell_type": "code",
   "execution_count": 124,
   "metadata": {},
   "outputs": [
    {
     "data": {
      "text/plain": [
       "1008959"
      ]
     },
     "execution_count": 124,
     "metadata": {},
     "output_type": "execute_result"
    }
   ],
   "source": [
    "#Side use for links derived based on MTC landuse data using Arcgis spatial join - closest one\n",
    "side_use1 = gpd.read_file(os.path.join(path1, \"spatialjoin_landuse_links.shp\")) # using the links file. Need to filetre bay arae links only \n",
    "len(side_use1)"
   ]
  },
  {
   "cell_type": "code",
   "execution_count": 125,
   "metadata": {},
   "outputs": [
    {
     "data": {
      "text/plain": [
       "658662"
      ]
     },
     "execution_count": 125,
     "metadata": {},
     "output_type": "execute_result"
    }
   ],
   "source": [
    "side_use1 = side_use1[side_use1['LINK_ID'].isin(bay_links.LINK_ID)]\n",
    "len(side_use1)"
   ]
  },
  {
   "cell_type": "code",
   "execution_count": null,
   "metadata": {},
   "outputs": [],
   "source": [
    "# Land use catgeories based on MTC data\n",
    "type_id\n",
    "0,Other,other/unknown,O,FALSE,FALSE,TRUE\n",
    "1,Residential,single-family residential,HS,TRUE,FALSE,FALSE\n",
    "2,Residential,town-home residential,HT,TRUE,FALSE,FALSE\n",
    "3,Residential,multi-family residential,HM,TRUE,FALSE,FALSE\n",
    "4,Office,office,OF,FALSE,TRUE,FALSE\n",
    "5,Hotel,hotel,HO,FALSE,TRUE,FALSE\n",
    "6,School,school,SC,FALSE,TRUE,FALSE\n",
    "7,Industrial,light industrial,IL,FALSE,TRUE,FALSE\n",
    "8,Industrial,warehouse,IW,FALSE,TRUE,FALSE\n",
    "9,Industrial,heavy industrial,IH,FALSE,TRUE,FALSE\n",
    "10,Retail,retail type 3,RS,FALSE,TRUE,FALSE\n",
    "11,Retail,retail type 2,RB,FALSE,TRUE,FALSE\n",
    "12,Residential,mixed-use with residential emphasis,MR,TRUE,TRUE,FALSE\n",
    "13,Retail,retail type 1,MT,FALSE,TRUE,FALSE\n",
    "14,Office,mixed-use with office emphasis,ME,TRUE,TRUE,FALSE\n",
    "15,Parking,parking type 1,PA,FALSE,FALSE,TRUE\n",
    "16,Parking,parking type 2,PA2,FALSE,FALSE,TRUE\n",
    "99, Green/Open space"
   ]
  },
  {
   "cell_type": "code",
   "execution_count": 126,
   "metadata": {},
   "outputs": [],
   "source": [
    "#aggregating the landuse for our classification\n",
    "zoning_landuse = { 1:'Residential', 2:'Residential',3:'Residential',12:'Residential',\n",
    "                 4:'Commercial',5:'Commercial', 10:'Commercial',11:'Commercial', 13:'Commercial',14:'Commercial',\n",
    "                 6:'PSP',15:'PSP', 16:'PSP',\n",
    "                 7:'Industrial', 8:'Industrial', 9:'Industrial',\n",
    "                99:'Green/Open Space',\n",
    "                0:'Other'}"
   ]
  },
  {
   "cell_type": "code",
   "execution_count": 127,
   "metadata": {},
   "outputs": [
    {
     "data": {
      "text/plain": [
       "Residential         407161\n",
       "Other                89234\n",
       "Commercial           69577\n",
       "Green/Open Space     40225\n",
       "PSP                  28310\n",
       "Industrial           24155\n",
       "Name: landuse, dtype: int64"
      ]
     },
     "execution_count": 127,
     "metadata": {},
     "output_type": "execute_result"
    }
   ],
   "source": [
    "side_use1['landuse'] = side_use1['type_id'].map(zoning_landuse)\n",
    "side_use1['landuse'].value_counts()"
   ]
  },
  {
   "cell_type": "code",
   "execution_count": 128,
   "metadata": {},
   "outputs": [
    {
     "data": {
      "text/plain": [
       "0"
      ]
     },
     "execution_count": 128,
     "metadata": {},
     "output_type": "execute_result"
    }
   ],
   "source": [
    "side_use1['landuse'].isnull().sum()"
   ]
  },
  {
   "cell_type": "code",
   "execution_count": 129,
   "metadata": {},
   "outputs": [
    {
     "data": {
      "text/plain": [
       "landuse\n",
       "Commercial           3513.079534\n",
       "Green/Open Space     2676.222931\n",
       "Industrial           2027.290063\n",
       "Other                8904.146268\n",
       "PSP                  2805.671337\n",
       "Residential         30199.284765\n",
       "Name: LENGTH_met, dtype: float64"
      ]
     },
     "execution_count": 129,
     "metadata": {},
     "output_type": "execute_result"
    }
   ],
   "source": [
    "side_use1.groupby(['landuse'])['LENGTH_met'].sum()/1000*0.621371 #miles"
   ]
  },
  {
   "cell_type": "markdown",
   "metadata": {},
   "source": [
    "# Step 3 Combine transport and landuse context "
   ]
  },
  {
   "cell_type": "code",
   "execution_count": 131,
   "metadata": {},
   "outputs": [
    {
     "data": {
      "text/plain": [
       "658662"
      ]
     },
     "execution_count": 131,
     "metadata": {},
     "output_type": "execute_result"
    }
   ],
   "source": [
    "sc_classification = pd.merge(bay_links, side_use1[['LINK_ID','primary_id', 'developmen', 'land_value', 'acres',\n",
    "       'county_id', 'zone_id', 'proportion', 'tax_exempt', 'apn', 'parcel_id_',\n",
    "       'geom_id', 'imputation', 'x', 'y', 'shape_area', 'block_id', 'node_id',\n",
    "       'parcel_id', 'developm_1', 'building_t', 'type_id', 'geometry',\n",
    "       'landuse']], left_on = 'LINK_ID', right_on = 'LINK_ID', how = 'left')\n",
    "len(sc_classification)"
   ]
  },
  {
   "cell_type": "code",
   "execution_count": 132,
   "metadata": {
    "scrolled": true
   },
   "outputs": [
    {
     "data": {
      "text/html": [
       "<div>\n",
       "<style scoped>\n",
       "    .dataframe tbody tr th:only-of-type {\n",
       "        vertical-align: middle;\n",
       "    }\n",
       "\n",
       "    .dataframe tbody tr th {\n",
       "        vertical-align: top;\n",
       "    }\n",
       "\n",
       "    .dataframe thead th {\n",
       "        text-align: right;\n",
       "    }\n",
       "</style>\n",
       "<table border=\"1\" class=\"dataframe\">\n",
       "  <thead>\n",
       "    <tr style=\"text-align: right;\">\n",
       "      <th></th>\n",
       "      <th>LINK_ID</th>\n",
       "      <th>ST_NAME</th>\n",
       "      <th>REF_IN_ID</th>\n",
       "      <th>NREF_IN_ID</th>\n",
       "      <th>FUNC_CLASS</th>\n",
       "      <th>DIR_TRAVEL</th>\n",
       "      <th>NUM_PHYS_L</th>\n",
       "      <th>SPEED_KPH</th>\n",
       "      <th>LENGTH_met</th>\n",
       "      <th>CAPACITY_v</th>\n",
       "      <th>...</th>\n",
       "      <th>y</th>\n",
       "      <th>shape_area</th>\n",
       "      <th>block_id</th>\n",
       "      <th>node_id</th>\n",
       "      <th>parcel_id</th>\n",
       "      <th>developm_1</th>\n",
       "      <th>building_t</th>\n",
       "      <th>type_id</th>\n",
       "      <th>geometry_y</th>\n",
       "      <th>landuse</th>\n",
       "    </tr>\n",
       "  </thead>\n",
       "  <tbody>\n",
       "    <tr>\n",
       "      <th>741</th>\n",
       "      <td>23594242</td>\n",
       "      <td>CABRILLO HWY</td>\n",
       "      <td>48433001</td>\n",
       "      <td>48433002</td>\n",
       "      <td>5</td>\n",
       "      <td>F</td>\n",
       "      <td>1.0</td>\n",
       "      <td>40</td>\n",
       "      <td>15.152996</td>\n",
       "      <td>1000.0</td>\n",
       "      <td>...</td>\n",
       "      <td>37.539809</td>\n",
       "      <td>7.173942e+02</td>\n",
       "      <td>60816136001006</td>\n",
       "      <td>65521093</td>\n",
       "      <td>1130121.0</td>\n",
       "      <td>1.0</td>\n",
       "      <td>1.0</td>\n",
       "      <td>1.0</td>\n",
       "      <td>LINESTRING (-122.51706 37.53957, -122.51689 37...</td>\n",
       "      <td>Residential</td>\n",
       "    </tr>\n",
       "    <tr>\n",
       "      <th>11319</th>\n",
       "      <td>23609862</td>\n",
       "      <td>GREAT HWY</td>\n",
       "      <td>48490231</td>\n",
       "      <td>48490234</td>\n",
       "      <td>4</td>\n",
       "      <td>F</td>\n",
       "      <td>1.0</td>\n",
       "      <td>40</td>\n",
       "      <td>60.564599</td>\n",
       "      <td>1000.0</td>\n",
       "      <td>...</td>\n",
       "      <td>37.735750</td>\n",
       "      <td>2.252366e+02</td>\n",
       "      <td>60750354005006</td>\n",
       "      <td>65320244</td>\n",
       "      <td>956295.0</td>\n",
       "      <td>1.0</td>\n",
       "      <td>1.0</td>\n",
       "      <td>1.0</td>\n",
       "      <td>LINESTRING (-122.50611 37.73556, -122.50620 37...</td>\n",
       "      <td>Residential</td>\n",
       "    </tr>\n",
       "    <tr>\n",
       "      <th>15052</th>\n",
       "      <td>23615283</td>\n",
       "      <td>RICHARDSON AVE</td>\n",
       "      <td>48525065</td>\n",
       "      <td>48525001</td>\n",
       "      <td>2</td>\n",
       "      <td>F</td>\n",
       "      <td>3.0</td>\n",
       "      <td>60</td>\n",
       "      <td>63.532725</td>\n",
       "      <td>4500.0</td>\n",
       "      <td>...</td>\n",
       "      <td>37.797362</td>\n",
       "      <td>6.092960e+06</td>\n",
       "      <td>60750601001094</td>\n",
       "      <td>5427553440</td>\n",
       "      <td>914191.0</td>\n",
       "      <td>2.0</td>\n",
       "      <td>3.0</td>\n",
       "      <td>3.0</td>\n",
       "      <td>LINESTRING (-122.44711 37.80036, -122.44765 37...</td>\n",
       "      <td>Residential</td>\n",
       "    </tr>\n",
       "    <tr>\n",
       "      <th>16843</th>\n",
       "      <td>23617944</td>\n",
       "      <td>CA-1</td>\n",
       "      <td>48436121</td>\n",
       "      <td>48436118</td>\n",
       "      <td>3</td>\n",
       "      <td>F</td>\n",
       "      <td>1.0</td>\n",
       "      <td>60</td>\n",
       "      <td>78.077232</td>\n",
       "      <td>1500.0</td>\n",
       "      <td>...</td>\n",
       "      <td>37.473276</td>\n",
       "      <td>1.216038e+03</td>\n",
       "      <td>60816135012065</td>\n",
       "      <td>65415466</td>\n",
       "      <td>1176263.0</td>\n",
       "      <td>1.0</td>\n",
       "      <td>1.0</td>\n",
       "      <td>1.0</td>\n",
       "      <td>LINESTRING (-122.43529 37.47229, -122.43584 37...</td>\n",
       "      <td>Residential</td>\n",
       "    </tr>\n",
       "    <tr>\n",
       "      <th>16848</th>\n",
       "      <td>23617984</td>\n",
       "      <td>CA-1</td>\n",
       "      <td>48435390</td>\n",
       "      <td>48435386</td>\n",
       "      <td>3</td>\n",
       "      <td>F</td>\n",
       "      <td>1.0</td>\n",
       "      <td>80</td>\n",
       "      <td>77.754061</td>\n",
       "      <td>1500.0</td>\n",
       "      <td>...</td>\n",
       "      <td>37.495327</td>\n",
       "      <td>1.013814e+03</td>\n",
       "      <td>60816135022007</td>\n",
       "      <td>65488059</td>\n",
       "      <td>1155722.0</td>\n",
       "      <td>1.0</td>\n",
       "      <td>1.0</td>\n",
       "      <td>1.0</td>\n",
       "      <td>LINESTRING (-122.45567 37.49521, -122.45646 37...</td>\n",
       "      <td>Residential</td>\n",
       "    </tr>\n",
       "    <tr>\n",
       "      <th>...</th>\n",
       "      <td>...</td>\n",
       "      <td>...</td>\n",
       "      <td>...</td>\n",
       "      <td>...</td>\n",
       "      <td>...</td>\n",
       "      <td>...</td>\n",
       "      <td>...</td>\n",
       "      <td>...</td>\n",
       "      <td>...</td>\n",
       "      <td>...</td>\n",
       "      <td>...</td>\n",
       "      <td>...</td>\n",
       "      <td>...</td>\n",
       "      <td>...</td>\n",
       "      <td>...</td>\n",
       "      <td>...</td>\n",
       "      <td>...</td>\n",
       "      <td>...</td>\n",
       "      <td>...</td>\n",
       "      <td>...</td>\n",
       "      <td>...</td>\n",
       "    </tr>\n",
       "    <tr>\n",
       "      <th>658628</th>\n",
       "      <td>1205968504</td>\n",
       "      <td>I-680</td>\n",
       "      <td>1148848294</td>\n",
       "      <td>1148966840</td>\n",
       "      <td>2</td>\n",
       "      <td>F</td>\n",
       "      <td>4.0</td>\n",
       "      <td>115</td>\n",
       "      <td>37.709896</td>\n",
       "      <td>8000.0</td>\n",
       "      <td>...</td>\n",
       "      <td>37.744752</td>\n",
       "      <td>6.682690e+02</td>\n",
       "      <td>60133451021005</td>\n",
       "      <td>57846181</td>\n",
       "      <td>689952.0</td>\n",
       "      <td>1.0</td>\n",
       "      <td>1.0</td>\n",
       "      <td>1.0</td>\n",
       "      <td>LINESTRING (-121.95581 37.74459, -121.95561 37...</td>\n",
       "      <td>Residential</td>\n",
       "    </tr>\n",
       "    <tr>\n",
       "      <th>658629</th>\n",
       "      <td>1205968505</td>\n",
       "      <td>I-680</td>\n",
       "      <td>1148966841</td>\n",
       "      <td>1148848295</td>\n",
       "      <td>2</td>\n",
       "      <td>F</td>\n",
       "      <td>4.0</td>\n",
       "      <td>115</td>\n",
       "      <td>945.267107</td>\n",
       "      <td>8000.0</td>\n",
       "      <td>...</td>\n",
       "      <td>37.752851</td>\n",
       "      <td>1.158825e+03</td>\n",
       "      <td>60133451111000</td>\n",
       "      <td>57877880</td>\n",
       "      <td>727679.0</td>\n",
       "      <td>1.0</td>\n",
       "      <td>1.0</td>\n",
       "      <td>1.0</td>\n",
       "      <td>LINESTRING (-121.96060 37.75245, -121.95594 37...</td>\n",
       "      <td>Residential</td>\n",
       "    </tr>\n",
       "    <tr>\n",
       "      <th>658630</th>\n",
       "      <td>1205968506</td>\n",
       "      <td>I-680</td>\n",
       "      <td>999960865</td>\n",
       "      <td>1148966841</td>\n",
       "      <td>2</td>\n",
       "      <td>F</td>\n",
       "      <td>4.0</td>\n",
       "      <td>115</td>\n",
       "      <td>82.553449</td>\n",
       "      <td>8000.0</td>\n",
       "      <td>...</td>\n",
       "      <td>37.753436</td>\n",
       "      <td>1.109601e+03</td>\n",
       "      <td>60133451111000</td>\n",
       "      <td>57830955</td>\n",
       "      <td>731489.0</td>\n",
       "      <td>1.0</td>\n",
       "      <td>1.0</td>\n",
       "      <td>1.0</td>\n",
       "      <td>LINESTRING (-121.96103 37.75311, -121.96060 37...</td>\n",
       "      <td>Residential</td>\n",
       "    </tr>\n",
       "    <tr>\n",
       "      <th>658631</th>\n",
       "      <td>1205968974</td>\n",
       "      <td>I-680</td>\n",
       "      <td>1148967092</td>\n",
       "      <td>1147105795</td>\n",
       "      <td>2</td>\n",
       "      <td>F</td>\n",
       "      <td>5.0</td>\n",
       "      <td>115</td>\n",
       "      <td>466.200341</td>\n",
       "      <td>10000.0</td>\n",
       "      <td>...</td>\n",
       "      <td>37.791487</td>\n",
       "      <td>4.658588e+02</td>\n",
       "      <td>60133451051009</td>\n",
       "      <td>57867138</td>\n",
       "      <td>571088.0</td>\n",
       "      <td>1.0</td>\n",
       "      <td>1.0</td>\n",
       "      <td>1.0</td>\n",
       "      <td>LINESTRING (-121.98318 37.79251, -121.98137 37...</td>\n",
       "      <td>Residential</td>\n",
       "    </tr>\n",
       "    <tr>\n",
       "      <th>658636</th>\n",
       "      <td>1205969637</td>\n",
       "      <td>I-680</td>\n",
       "      <td>1148967432</td>\n",
       "      <td>50154499</td>\n",
       "      <td>2</td>\n",
       "      <td>F</td>\n",
       "      <td>4.0</td>\n",
       "      <td>115</td>\n",
       "      <td>541.112422</td>\n",
       "      <td>8000.0</td>\n",
       "      <td>...</td>\n",
       "      <td>37.836501</td>\n",
       "      <td>2.370417e+03</td>\n",
       "      <td>60133452034000</td>\n",
       "      <td>57798608</td>\n",
       "      <td>684181.0</td>\n",
       "      <td>1.0</td>\n",
       "      <td>1.0</td>\n",
       "      <td>1.0</td>\n",
       "      <td>LINESTRING (-122.01676 37.83940, -122.01186 37...</td>\n",
       "      <td>Residential</td>\n",
       "    </tr>\n",
       "  </tbody>\n",
       "</table>\n",
       "<p>5116 rows × 40 columns</p>\n",
       "</div>"
      ],
      "text/plain": [
       "           LINK_ID         ST_NAME   REF_IN_ID  NREF_IN_ID  FUNC_CLASS  \\\n",
       "741       23594242    CABRILLO HWY    48433001    48433002           5   \n",
       "11319     23609862       GREAT HWY    48490231    48490234           4   \n",
       "15052     23615283  RICHARDSON AVE    48525065    48525001           2   \n",
       "16843     23617944            CA-1    48436121    48436118           3   \n",
       "16848     23617984            CA-1    48435390    48435386           3   \n",
       "...            ...             ...         ...         ...         ...   \n",
       "658628  1205968504           I-680  1148848294  1148966840           2   \n",
       "658629  1205968505           I-680  1148966841  1148848295           2   \n",
       "658630  1205968506           I-680   999960865  1148966841           2   \n",
       "658631  1205968974           I-680  1148967092  1147105795           2   \n",
       "658636  1205969637           I-680  1148967432    50154499           2   \n",
       "\n",
       "       DIR_TRAVEL  NUM_PHYS_L  SPEED_KPH  LENGTH_met  CAPACITY_v  ...  \\\n",
       "741             F         1.0         40   15.152996      1000.0  ...   \n",
       "11319           F         1.0         40   60.564599      1000.0  ...   \n",
       "15052           F         3.0         60   63.532725      4500.0  ...   \n",
       "16843           F         1.0         60   78.077232      1500.0  ...   \n",
       "16848           F         1.0         80   77.754061      1500.0  ...   \n",
       "...           ...         ...        ...         ...         ...  ...   \n",
       "658628          F         4.0        115   37.709896      8000.0  ...   \n",
       "658629          F         4.0        115  945.267107      8000.0  ...   \n",
       "658630          F         4.0        115   82.553449      8000.0  ...   \n",
       "658631          F         5.0        115  466.200341     10000.0  ...   \n",
       "658636          F         4.0        115  541.112422      8000.0  ...   \n",
       "\n",
       "                y    shape_area        block_id     node_id  parcel_id  \\\n",
       "741     37.539809  7.173942e+02  60816136001006    65521093  1130121.0   \n",
       "11319   37.735750  2.252366e+02  60750354005006    65320244   956295.0   \n",
       "15052   37.797362  6.092960e+06  60750601001094  5427553440   914191.0   \n",
       "16843   37.473276  1.216038e+03  60816135012065    65415466  1176263.0   \n",
       "16848   37.495327  1.013814e+03  60816135022007    65488059  1155722.0   \n",
       "...           ...           ...             ...         ...        ...   \n",
       "658628  37.744752  6.682690e+02  60133451021005    57846181   689952.0   \n",
       "658629  37.752851  1.158825e+03  60133451111000    57877880   727679.0   \n",
       "658630  37.753436  1.109601e+03  60133451111000    57830955   731489.0   \n",
       "658631  37.791487  4.658588e+02  60133451051009    57867138   571088.0   \n",
       "658636  37.836501  2.370417e+03  60133452034000    57798608   684181.0   \n",
       "\n",
       "       developm_1 building_t  type_id  \\\n",
       "741           1.0        1.0      1.0   \n",
       "11319         1.0        1.0      1.0   \n",
       "15052         2.0        3.0      3.0   \n",
       "16843         1.0        1.0      1.0   \n",
       "16848         1.0        1.0      1.0   \n",
       "...           ...        ...      ...   \n",
       "658628        1.0        1.0      1.0   \n",
       "658629        1.0        1.0      1.0   \n",
       "658630        1.0        1.0      1.0   \n",
       "658631        1.0        1.0      1.0   \n",
       "658636        1.0        1.0      1.0   \n",
       "\n",
       "                                               geometry_y      landuse  \n",
       "741     LINESTRING (-122.51706 37.53957, -122.51689 37...  Residential  \n",
       "11319   LINESTRING (-122.50611 37.73556, -122.50620 37...  Residential  \n",
       "15052   LINESTRING (-122.44711 37.80036, -122.44765 37...  Residential  \n",
       "16843   LINESTRING (-122.43529 37.47229, -122.43584 37...  Residential  \n",
       "16848   LINESTRING (-122.45567 37.49521, -122.45646 37...  Residential  \n",
       "...                                                   ...          ...  \n",
       "658628  LINESTRING (-121.95581 37.74459, -121.95561 37...  Residential  \n",
       "658629  LINESTRING (-121.96060 37.75245, -121.95594 37...  Residential  \n",
       "658630  LINESTRING (-121.96103 37.75311, -121.96060 37...  Residential  \n",
       "658631  LINESTRING (-121.98318 37.79251, -121.98137 37...  Residential  \n",
       "658636  LINESTRING (-122.01676 37.83940, -122.01186 37...  Residential  \n",
       "\n",
       "[5116 rows x 40 columns]"
      ]
     },
     "execution_count": 132,
     "metadata": {},
     "output_type": "execute_result"
    }
   ],
   "source": [
    "sc_classification[(sc_classification['transport_use'] == 'Highway') & (sc_classification['landuse'] == 'Residential')]"
   ]
  },
  {
   "cell_type": "code",
   "execution_count": 133,
   "metadata": {},
   "outputs": [
    {
     "data": {
      "text/plain": [
       "transport_use  landuse         \n",
       "Highway        Commercial            481.275982\n",
       "               Green/Open Space      454.852531\n",
       "               Industrial            311.499598\n",
       "               Other                1774.962925\n",
       "               PSP                   345.379293\n",
       "               Residential          1006.491177\n",
       "Highway Ramps  Commercial            378.393109\n",
       "               Green/Open Space      234.349940\n",
       "               Industrial            106.135554\n",
       "               Other                 305.497801\n",
       "               PSP                    47.879628\n",
       "               Residential           219.817247\n",
       "Neighborhood   Commercial           2970.112001\n",
       "               Green/Open Space     2408.610715\n",
       "               Industrial           2165.265237\n",
       "               Other                9541.907643\n",
       "               PSP                  3025.946449\n",
       "               Residential         42617.410531\n",
       "Throughway     Commercial           1823.974128\n",
       "               Green/Open Space     1209.151464\n",
       "               Industrial            679.707719\n",
       "               Other                2707.470436\n",
       "               PSP                  1096.086358\n",
       "               Residential          4757.333822\n",
       "Name: LENGTH_met, dtype: float64"
      ]
     },
     "execution_count": 133,
     "metadata": {},
     "output_type": "execute_result"
    }
   ],
   "source": [
    "sc_classification.groupby(['transport_use','landuse'])['LENGTH_met'].sum()/1000 #km"
   ]
  },
  {
   "cell_type": "code",
   "execution_count": 134,
   "metadata": {},
   "outputs": [
    {
     "data": {
      "text/plain": [
       "transport_use  landuse         \n",
       "Highway        Commercial            481.275982\n",
       "               Green/Open Space      454.852531\n",
       "               Industrial            311.499598\n",
       "               Other                1774.962925\n",
       "               PSP                   345.379293\n",
       "               Residential          1006.491177\n",
       "Highway Ramps  Commercial            378.393109\n",
       "               Green/Open Space      234.349940\n",
       "               Industrial            106.135554\n",
       "               Other                 305.497801\n",
       "               PSP                    47.879628\n",
       "               Residential           219.817247\n",
       "Neighborhood   Commercial           2970.112001\n",
       "               Green/Open Space     2408.610715\n",
       "               Industrial           2165.265237\n",
       "               Other                9541.907643\n",
       "               PSP                  3025.946449\n",
       "               Residential         42617.410531\n",
       "Throughway     Commercial           1823.974128\n",
       "               Green/Open Space     1209.151464\n",
       "               Industrial            679.707719\n",
       "               Other                2707.470436\n",
       "               PSP                  1096.086358\n",
       "               Residential          4757.333822\n",
       "Name: LENGTH_met, dtype: float64"
      ]
     },
     "execution_count": 134,
     "metadata": {},
     "output_type": "execute_result"
    }
   ],
   "source": [
    "sc_classification.groupby(['transport_use','landuse'])['LENGTH_met'].sum()/1000 #km"
   ]
  },
  {
   "cell_type": "code",
   "execution_count": 135,
   "metadata": {},
   "outputs": [],
   "source": [
    "# Final categorisation \n",
    "#combine ramps into highways for final categorisation \n",
    "\n",
    "def landuse_transp(df):\n",
    "    if df['transport_use'] == 'Highway':\n",
    "        return 'Highway'\n",
    "    elif df['transport_use'] == 'Highway Ramps':\n",
    "        return 'Highway'\n",
    "    elif (df['transport_use'] == 'Throughway') & (df['landuse'] == 'Residential'):\n",
    "        return 'Residential Throughway'\n",
    "    elif (df['transport_use'] == 'Throughway') & (df['landuse'] == 'Commercial'):\n",
    "        return 'Commercial Throughway'\n",
    "    elif (df['transport_use'] == 'Throughway') & (df['landuse'] == 'Industrial'):\n",
    "        return 'Industrial street'\n",
    "    elif (df['transport_use'] == 'Throughway') & (df['landuse'] == 'PSP'):\n",
    "        return 'PSP street'\n",
    "    elif (df['transport_use'] == 'Neighborhood') & (df['landuse'] == 'Residential'):\n",
    "        return 'Neighbourhood Residential street'\n",
    "    elif (df['transport_use'] == 'Neighborhood') & (df['landuse'] == 'Commercial'):\n",
    "        return 'Neighbourhood Commercial street'\n",
    "    elif (df['transport_use'] == 'Neighborhood') & (df['landuse'] == 'Industrial'):\n",
    "        return 'Industrial street'\n",
    "    elif (df['transport_use'] == 'Neighborhood') & (df['landuse'] == 'PSP'):\n",
    "        return 'PSP street'\n",
    "    else:\n",
    "         return 'Other/Openspace_street' "
   ]
  },
  {
   "cell_type": "code",
   "execution_count": 137,
   "metadata": {},
   "outputs": [
    {
     "name": "stdout",
     "output_type": "stream",
     "text": [
      "0\n",
      "658662\n"
     ]
    }
   ],
   "source": [
    "sc_classification['new_classification'] = sc_classification.apply(lambda x: landuse_transp(x), axis = 1)\n",
    "print(sc_classification['new_classification'].isnull().sum())\n",
    "print(len(sc_classification))"
   ]
  },
  {
   "cell_type": "code",
   "execution_count": 138,
   "metadata": {},
   "outputs": [
    {
     "data": {
      "text/plain": [
       "new_classification\n",
       "Commercial Throughway                1133.364628\n",
       "Highway                              3521.020386\n",
       "Industrial street                    1767.783691\n",
       "Neighbourhood Commercial street      1845.541464\n",
       "Neighbourhood Residential street    26481.222999\n",
       "Other/Openspace_street               9859.380810\n",
       "PSP street                           2561.311647\n",
       "Residential Throughway               2956.069274\n",
       "Name: LENGTH_met, dtype: float64"
      ]
     },
     "execution_count": 138,
     "metadata": {},
     "output_type": "execute_result"
    }
   ],
   "source": [
    "sc_classification.groupby(['new_classification'])['LENGTH_met'].sum()/1000*0.621371 #miles"
   ]
  },
  {
   "cell_type": "code",
   "execution_count": 139,
   "metadata": {},
   "outputs": [
    {
     "data": {
      "text/plain": [
       "new_classification\n",
       "Commercial Throughway                2.261045\n",
       "Highway                              7.024382\n",
       "Industrial street                    3.526702\n",
       "Neighbourhood Commercial street      3.681827\n",
       "Neighbourhood Residential street    52.829638\n",
       "Other/Openspace_street              19.669315\n",
       "PSP street                           5.109778\n",
       "Residential Throughway               5.897313\n",
       "Name: LENGTH_met, dtype: float64"
      ]
     },
     "execution_count": 139,
     "metadata": {},
     "output_type": "execute_result"
    }
   ],
   "source": [
    "sc_classification.groupby(['new_classification'])['LENGTH_met'].sum()/sc_classification['LENGTH_met'].sum()*100 #percentage"
   ]
  },
  {
   "cell_type": "code",
   "execution_count": 140,
   "metadata": {},
   "outputs": [
    {
     "data": {
      "text/html": [
       "<div>\n",
       "<style scoped>\n",
       "    .dataframe tbody tr th:only-of-type {\n",
       "        vertical-align: middle;\n",
       "    }\n",
       "\n",
       "    .dataframe tbody tr th {\n",
       "        vertical-align: top;\n",
       "    }\n",
       "\n",
       "    .dataframe thead th {\n",
       "        text-align: right;\n",
       "    }\n",
       "</style>\n",
       "<table border=\"1\" class=\"dataframe\">\n",
       "  <thead>\n",
       "    <tr style=\"text-align: right;\">\n",
       "      <th></th>\n",
       "      <th>LINK_ID</th>\n",
       "      <th>ST_NAME</th>\n",
       "      <th>REF_IN_ID</th>\n",
       "      <th>NREF_IN_ID</th>\n",
       "      <th>FUNC_CLASS</th>\n",
       "      <th>DIR_TRAVEL</th>\n",
       "      <th>NUM_PHYS_L</th>\n",
       "      <th>SPEED_KPH</th>\n",
       "      <th>LENGTH_met</th>\n",
       "      <th>CAPACITY_v</th>\n",
       "      <th>...</th>\n",
       "      <th>shape_area</th>\n",
       "      <th>block_id</th>\n",
       "      <th>node_id</th>\n",
       "      <th>parcel_id</th>\n",
       "      <th>developm_1</th>\n",
       "      <th>building_t</th>\n",
       "      <th>type_id</th>\n",
       "      <th>geometry_y</th>\n",
       "      <th>landuse</th>\n",
       "      <th>new_classification</th>\n",
       "    </tr>\n",
       "  </thead>\n",
       "  <tbody>\n",
       "    <tr>\n",
       "      <th>0</th>\n",
       "      <td>23592962</td>\n",
       "      <td>WHITMAN WAY</td>\n",
       "      <td>48501858</td>\n",
       "      <td>48501829</td>\n",
       "      <td>5</td>\n",
       "      <td>F</td>\n",
       "      <td>1.0</td>\n",
       "      <td>40</td>\n",
       "      <td>200.578658</td>\n",
       "      <td>1000.0</td>\n",
       "      <td>...</td>\n",
       "      <td>25020.541920</td>\n",
       "      <td>60816038021001</td>\n",
       "      <td>65432035</td>\n",
       "      <td>1086919.0</td>\n",
       "      <td>2.0</td>\n",
       "      <td>3.0</td>\n",
       "      <td>3.0</td>\n",
       "      <td>LINESTRING (-122.42562 37.61791, -122.42776 37...</td>\n",
       "      <td>Residential</td>\n",
       "      <td>Neighbourhood Residential street</td>\n",
       "    </tr>\n",
       "    <tr>\n",
       "      <th>1</th>\n",
       "      <td>23592963</td>\n",
       "      <td>WHITMAN WAY</td>\n",
       "      <td>48501807</td>\n",
       "      <td>48501829</td>\n",
       "      <td>5</td>\n",
       "      <td>F</td>\n",
       "      <td>1.0</td>\n",
       "      <td>40</td>\n",
       "      <td>169.997630</td>\n",
       "      <td>1000.0</td>\n",
       "      <td>...</td>\n",
       "      <td>1152.061434</td>\n",
       "      <td>60816038021002</td>\n",
       "      <td>65407446</td>\n",
       "      <td>1087316.0</td>\n",
       "      <td>2.0</td>\n",
       "      <td>3.0</td>\n",
       "      <td>3.0</td>\n",
       "      <td>LINESTRING (-122.42965 37.61779, -122.42776 37...</td>\n",
       "      <td>Residential</td>\n",
       "      <td>Neighbourhood Residential street</td>\n",
       "    </tr>\n",
       "  </tbody>\n",
       "</table>\n",
       "<p>2 rows × 41 columns</p>\n",
       "</div>"
      ],
      "text/plain": [
       "    LINK_ID      ST_NAME  REF_IN_ID  NREF_IN_ID  FUNC_CLASS DIR_TRAVEL  \\\n",
       "0  23592962  WHITMAN WAY   48501858    48501829           5          F   \n",
       "1  23592963  WHITMAN WAY   48501807    48501829           5          F   \n",
       "\n",
       "   NUM_PHYS_L  SPEED_KPH  LENGTH_met  CAPACITY_v  ...    shape_area  \\\n",
       "0         1.0         40  200.578658      1000.0  ...  25020.541920   \n",
       "1         1.0         40  169.997630      1000.0  ...   1152.061434   \n",
       "\n",
       "         block_id   node_id  parcel_id  developm_1 building_t type_id  \\\n",
       "0  60816038021001  65432035  1086919.0         2.0        3.0     3.0   \n",
       "1  60816038021002  65407446  1087316.0         2.0        3.0     3.0   \n",
       "\n",
       "                                          geometry_y      landuse  \\\n",
       "0  LINESTRING (-122.42562 37.61791, -122.42776 37...  Residential   \n",
       "1  LINESTRING (-122.42965 37.61779, -122.42776 37...  Residential   \n",
       "\n",
       "                 new_classification  \n",
       "0  Neighbourhood Residential street  \n",
       "1  Neighbourhood Residential street  \n",
       "\n",
       "[2 rows x 41 columns]"
      ]
     },
     "execution_count": 140,
     "metadata": {},
     "output_type": "execute_result"
    }
   ],
   "source": [
    "sc_classification.head(2)"
   ]
  },
  {
   "cell_type": "markdown",
   "metadata": {},
   "source": [
    "#### WRITE TO CSV AND SHAPEFILE"
   ]
  },
  {
   "cell_type": "code",
   "execution_count": 144,
   "metadata": {},
   "outputs": [],
   "source": [
    "#writing files to local\n",
    "writepath = \"/Users/akuncheria/Documents/GSR-2021Feb/UCBerkeley_GSR/SAEF/Working_Files/Reclassification_STRF/final/may2022\"\n",
    "sc_classification.to_csv(os.path.join(writepath ,'bayarea_links_reclassification.csv'), index = False)"
   ]
  },
  {
   "cell_type": "code",
   "execution_count": 145,
   "metadata": {},
   "outputs": [],
   "source": [
    "#write to shapefile \n",
    "bayclass = gpd.GeoDataFrame(sc_classification[['LINK_ID', 'ST_NAME', 'REF_IN_ID', 'NREF_IN_ID', 'FUNC_CLASS',\n",
    "       'DIR_TRAVEL', 'NUM_PHYS_L', 'SPEED_KPH', 'LENGTH_met', 'CAPACITY_v',\n",
    "       'RAMP', 'ref_lat', 'ref_long', 'nref_lat', 'nref_long',\n",
    "       'transport_use', 'primary_id', 'developmen', 'land_value', 'acres',\n",
    "       'county_id', 'zone_id', 'proportion', 'tax_exempt', 'apn', 'parcel_id_', 'imputation', 'x', 'y', 'shape_area', 'block_id', 'node_id',\n",
    "       'parcel_id', 'developm_1', 'building_t', 'type_id',\n",
    "       'landuse', 'new_classification']], crs = sc_classification.crs, geometry=sc_classification.geometry_x)\n",
    "\n",
    "\n",
    "bayclass.to_file( os.path.join(writepath,\"bayarea_links_reclassification.shp\"), driver = 'ESRI Shapefile')"
   ]
  }
 ],
 "metadata": {
  "kernelspec": {
   "display_name": "Python 3 (ipykernel)",
   "language": "python",
   "name": "python3"
  },
  "language_info": {
   "codemirror_mode": {
    "name": "ipython",
    "version": 3
   },
   "file_extension": ".py",
   "mimetype": "text/x-python",
   "name": "python",
   "nbconvert_exporter": "python",
   "pygments_lexer": "ipython3",
   "version": "3.11.2"
  }
 },
 "nbformat": 4,
 "nbformat_minor": 2
}
